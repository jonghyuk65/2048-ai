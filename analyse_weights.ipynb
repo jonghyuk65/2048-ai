{
 "cells": [
  {
   "cell_type": "code",
   "execution_count": 37,
   "metadata": {
    "collapsed": true
   },
   "outputs": [],
   "source": [
    "import cPickle as pickle\n",
    "import numpy as np\n",
    "import time\n",
    "%matplotlib notebook\n",
    "\n",
    "import matplotlib.pyplot as plt\n",
    "from IPython.display import clear_output\n"
   ]
  },
  {
   "cell_type": "code",
   "execution_count": 2,
   "metadata": {
    "collapsed": true
   },
   "outputs": [],
   "source": [
    "filename = 'models/vl_0518110412_200000'\n",
    "with open(filename, 'r') as f:\n",
    "    v1 = pickle.load(f)\n",
    "    v2 = pickle.load(f)\n",
    "    "
   ]
  },
  {
   "cell_type": "code",
   "execution_count": 7,
   "metadata": {
    "collapsed": false
   },
   "outputs": [],
   "source": [
    "def row2rank(v):\n",
    "    n = len(v)\n",
    "    r = [0 for i in range(len(v))]\n",
    "    for i in range(n):\n",
    "        for j in range(n):\n",
    "            if v[j] < v[i]:\n",
    "                r[i] = r[i] + 1\n",
    "    return r\n",
    "\n",
    "def grouping_idens(rs, idens):\n",
    "    n = len(rs)\n",
    "    c = [0]*n\n",
    "    eqv_classes = []\n",
    "    for i in range(n):\n",
    "        if c[i] == 1:\n",
    "            continue\n",
    "        eqv_class = [rs[i]]\n",
    "        for j in range(i+1, n):\n",
    "            for trans in idens:\n",
    "                if [rs[i][trans[k]] for k in range(4)] == rs[j]:\n",
    "                    eqv_class.append(rs[j])\n",
    "                    c[j] = 1\n",
    "                    break\n",
    "        eqv_classes.append(eqv_class)\n",
    "    rank2idx = [0 for i in range(4*4*4*4)]\n",
    "    for idx, eqv_class in enumerate(eqv_classes):\n",
    "        for rank in eqv_class:\n",
    "            rank2idx[rank[0]*4*4*4 + rank[1]*4*4 + rank[2]*4 + rank[3]] = idx\n",
    "    return eqv_classes, rank2idx\n",
    "\n",
    "rs = []\n",
    "v = [0, 0, 0, 0]\n",
    "while True:\n",
    "    r = row2rank(v)\n",
    "    flag = True\n",
    "    for old_r in rs:\n",
    "        if old_r == r:\n",
    "            flag = False\n",
    "            break\n",
    "    if flag: rs.append(r)\n",
    "    i = 3\n",
    "    while i >= 0:\n",
    "        v[i] = v[i] + 1\n",
    "        if v[i] == 4:\n",
    "            v[i] = 0\n",
    "            i = i - 1\n",
    "        else:\n",
    "            break\n",
    "    if v == [0,0,0,0]:\n",
    "        break\n",
    "row_eqv, rank2idx_row = grouping_idens(rs, [[0,1,2,3],[3,2,1,0]])\n",
    "box_eqv, rank2idx_box = grouping_idens(rs, [[0,1,2,3],[2,0,3,1],[3,2,1,0],[1,3,0,2],[1,0,3,2],[3,1,2,0],[2,3,0,1],[0,2,1,3]])"
   ]
  },
  {
   "cell_type": "code",
   "execution_count": 10,
   "metadata": {
    "collapsed": false,
    "scrolled": true
   },
   "outputs": [
    {
     "data": {
      "text/plain": [
       "([[[0, 0, 0, 0]],\n",
       "  [[0, 0, 0, 3], [0, 0, 3, 0], [0, 3, 0, 0], [3, 0, 0, 0]],\n",
       "  [[0, 0, 2, 2], [0, 2, 0, 2], [2, 0, 2, 0], [2, 2, 0, 0]],\n",
       "  [[0, 0, 2, 3],\n",
       "   [0, 0, 3, 2],\n",
       "   [0, 2, 0, 3],\n",
       "   [0, 3, 0, 2],\n",
       "   [2, 0, 3, 0],\n",
       "   [2, 3, 0, 0],\n",
       "   [3, 0, 2, 0],\n",
       "   [3, 2, 0, 0]],\n",
       "  [[0, 2, 2, 0], [2, 0, 0, 2]],\n",
       "  [[0, 1, 1, 1], [1, 0, 1, 1], [1, 1, 0, 1], [1, 1, 1, 0]],\n",
       "  [[0, 1, 1, 3], [1, 0, 3, 1], [1, 3, 0, 1], [3, 1, 1, 0]],\n",
       "  [[0, 2, 3, 0], [0, 3, 2, 0], [2, 0, 0, 3], [3, 0, 0, 2]],\n",
       "  [[0, 1, 3, 1],\n",
       "   [0, 3, 1, 1],\n",
       "   [1, 0, 1, 3],\n",
       "   [1, 1, 0, 3],\n",
       "   [1, 1, 3, 0],\n",
       "   [1, 3, 1, 0],\n",
       "   [3, 0, 1, 1],\n",
       "   [3, 1, 0, 1]],\n",
       "  [[0, 1, 2, 2],\n",
       "   [0, 2, 1, 2],\n",
       "   [1, 0, 2, 2],\n",
       "   [1, 2, 0, 2],\n",
       "   [2, 0, 2, 1],\n",
       "   [2, 1, 2, 0],\n",
       "   [2, 2, 0, 1],\n",
       "   [2, 2, 1, 0]],\n",
       "  [[0, 1, 2, 3],\n",
       "   [0, 2, 1, 3],\n",
       "   [1, 0, 3, 2],\n",
       "   [1, 3, 0, 2],\n",
       "   [2, 0, 3, 1],\n",
       "   [2, 3, 0, 1],\n",
       "   [3, 1, 2, 0],\n",
       "   [3, 2, 1, 0]],\n",
       "  [[0, 1, 3, 2],\n",
       "   [0, 3, 1, 2],\n",
       "   [1, 0, 2, 3],\n",
       "   [1, 2, 0, 3],\n",
       "   [2, 1, 3, 0],\n",
       "   [2, 3, 1, 0],\n",
       "   [3, 0, 2, 1],\n",
       "   [3, 2, 0, 1]],\n",
       "  [[0, 2, 2, 1], [1, 2, 2, 0], [2, 0, 1, 2], [2, 1, 0, 2]],\n",
       "  [[0, 2, 3, 1],\n",
       "   [0, 3, 2, 1],\n",
       "   [1, 2, 3, 0],\n",
       "   [1, 3, 2, 0],\n",
       "   [2, 0, 1, 3],\n",
       "   [2, 1, 0, 3],\n",
       "   [3, 0, 1, 2],\n",
       "   [3, 1, 0, 2]]],\n",
       " 14)"
      ]
     },
     "execution_count": 10,
     "metadata": {},
     "output_type": "execute_result"
    }
   ],
   "source": [
    "box_eqv, len(box_eqv)"
   ]
  },
  {
   "cell_type": "code",
   "execution_count": 26,
   "metadata": {
    "collapsed": false
   },
   "outputs": [],
   "source": [
    "def original_row2idx(row):\n",
    "    idx = []\n",
    "    idx.append(row[0] * 18 * 18 * 18 + row[1] * 18 * 18 + row[2] * 18 + row[3])\n",
    "    idx.append(row[3] * 18 * 18 * 18 + row[2] * 18 * 18 + row[1] * 18 + row[0])\n",
    "    return min(idx)\n",
    "\n",
    "def original_box2idx(row):\n",
    "    idx = []\n",
    "    # 0 1   2 0    3 2  1 3\n",
    "    # 2 3   3 1    1 0  0 2\n",
    "    idx.append(row[0] * 18 * 18 * 18 + row[1] * 18 * 18 + row[2] * 18 + row[3])\n",
    "    idx.append(row[2] * 18 * 18 * 18 + row[0] * 18 * 18 + row[3] * 18 + row[1])\n",
    "    idx.append(row[3] * 18 * 18 * 18 + row[2] * 18 * 18 + row[1] * 18 + row[0])\n",
    "    idx.append(row[1] * 18 * 18 * 18 + row[3] * 18 * 18 + row[0] * 18 + row[2])\n",
    "    return min(idx)\n",
    "\n",
    "def row2idx(row):\n",
    "    rank = row2rank(row)\n",
    "    x = max(row)\n",
    "    return (rank2idx_row[rank[0]*4*4*4 + rank[1]*4*4 + rank[2]*4 + rank[3]], x)\n",
    "\n",
    "def box2idx(row):\n",
    "    rank = row2rank(row)\n",
    "    x = max(row)\n",
    "    return (rank2idx_box[rank[0]*4*4*4 + rank[1]*4*4 + rank[2]*4 + rank[3]], x)\n",
    "\n",
    "v = [0, 0, 0, 0]\n",
    "rows_x = [[] for i in range(39)]\n",
    "rows_y = [[] for i in range(39)]\n",
    "boxs_x = [[] for i in range(14)]\n",
    "boxs_y = [[] for i in range(14)]\n",
    "while True:\n",
    "    # row\n",
    "    original_idx = original_row2idx(v)\n",
    "    y = v1[original_idx]\n",
    "    idx, x = row2idx(v)\n",
    "    rows_x[idx].append(x)\n",
    "    rows_y[idx].append(y)\n",
    "    \n",
    "    original_idx = original_box2idx(v)\n",
    "    y = v2[original_idx]\n",
    "    idx, x = box2idx(v)\n",
    "    boxs_x[idx].append(x)\n",
    "    boxs_y[idx].append(y)\n",
    "    \n",
    "    i = 3\n",
    "    while i >= 0:\n",
    "        v[i] = v[i] + 1\n",
    "        if v[i] == 16:\n",
    "            v[i] = 0\n",
    "            i = i - 1\n",
    "        else:\n",
    "            break\n",
    "    if v == [0,0,0,0]:\n",
    "        break\n"
   ]
  },
  {
   "cell_type": "code",
   "execution_count": null,
   "metadata": {
    "collapsed": false
   },
   "outputs": [
    {
     "data": {
      "image/png": "[encoded data removed]",
      "text/plain": [
       "<matplotlib.figure.Figure at 0x7f508dab2710>"
      ]
     },
     "metadata": {},
     "output_type": "display_data"
    }
   ],
   "source": [
    "from IPython import display\n",
    "\n",
    "for idx in range(39):\n",
    "    plt.clf()\n",
    "    plt.title(['row',row_eqv[idx]])\n",
    "    plt.scatter(rows_x[idx], rows_y[idx])\n",
    "    display.clear_output(wait=True)\n",
    "    display.display(plt.gcf())\n",
    "    time.sleep(1.0)\n",
    "\n",
    "for idx in range(14):\n",
    "    plt.clf()\n",
    "    plt.title(['box',box_eqv[idx]])\n",
    "    plt.scatter(boxs_x[idx], boxs_y[idx])\n",
    "    display.clear_output(wait=True)\n",
    "    display.display(plt.gcf())\n",
    "    time.sleep(1.0)"
   ]
  },
  {
   "cell_type": "code",
   "execution_count": null,
   "metadata": {
    "collapsed": true
   },
   "outputs": [],
   "source": []
  }
 ],
 "metadata": {
  "kernelspec": {
   "display_name": "Python 2",
   "language": "python",
   "name": "python2"
  },
  "language_info": {
   "codemirror_mode": {
    "name": "ipython",
    "version": 2
   },
   "file_extension": ".py",
   "mimetype": "text/x-python",
   "name": "python",
   "nbconvert_exporter": "python",
   "pygments_lexer": "ipython2",
   "version": "2.7.10"
  }
 },
 "nbformat": 4,
 "nbformat_minor": 0
}
